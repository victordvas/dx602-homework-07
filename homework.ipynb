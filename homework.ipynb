{
  "cells": [
    {
      "cell_type": "markdown",
      "metadata": {
        "id": "77QuD1sxaGQ8"
      },
      "source": [
        "# DX 602 Week 7 Homework\n",
        "\n"
      ]
    },
    {
      "cell_type": "markdown",
      "metadata": {
        "id": "CjGG1RQ0KUYM"
      },
      "source": [
        "## Introduction\n",
        "\n",
        "In this homework, you will continue practicing the NumPy library to work with numbers in various ways.\n",
        "There will be a particular focus on views, but you will also be asked to find and recognize relevant NumPy functions on your own.\n",
        "NumPy is a large library with a lot of different functionality.\n",
        "It is impractical to introduce each function individually, yet you will be able to make use of most of its functionality with a basic exercise of search skills.\n"
      ]
    },
    {
      "cell_type": "markdown",
      "metadata": {},
      "source": [
        "## Example Code\n",
        "\n",
        "You may find it helpful to refer to this GitHub repository of Jupyter notebooks for example code.\n",
        "\n",
        "* https://github.com/bu-cds-omds/dx602-examples\n",
        "\n",
        "Any calculations demonstrated in code examples or videos may be found in these notebooks, and you are allowed to copy this example code in your homework answers."
      ]
    },
    {
      "cell_type": "markdown",
      "metadata": {},
      "source": [
        "## Shared Imports\n",
        "\n",
        "Do not install or use any additional modules.\n",
        "Installing additional modules may result in an autograder failure resulting in zero points for some or all problems."
      ]
    },
    {
      "cell_type": "code",
      "execution_count": 1,
      "metadata": {},
      "outputs": [],
      "source": [
        "import math\n",
        "import sys"
      ]
    },
    {
      "cell_type": "code",
      "execution_count": 2,
      "metadata": {},
      "outputs": [],
      "source": [
        "import matplotlib.pyplot as plt\n",
        "import numpy as np"
      ]
    },
    {
      "cell_type": "markdown",
      "metadata": {
        "id": "omut0-N1aEVB"
      },
      "source": [
        "## Problems"
      ]
    },
    {
      "cell_type": "markdown",
      "metadata": {},
      "source": [
        "### Problem 1\n",
        "\n",
        "Set `p1` to be `q1` flipped upside down."
      ]
    },
    {
      "cell_type": "code",
      "execution_count": 3,
      "metadata": {},
      "outputs": [],
      "source": [
        "# DO NOT CHANGE\n",
        "\n",
        "q1 = np.array([[9, 1, 6], [2, 6, 3], [5, 0, 7]])"
      ]
    },
    {
      "cell_type": "code",
      "execution_count": 4,
      "metadata": {},
      "outputs": [],
      "source": [
        "# YOUR CHANGES HERE\n",
        "\n",
        "p1 = q1[::-1]"
      ]
    },
    {
      "cell_type": "code",
      "execution_count": 5,
      "metadata": {},
      "outputs": [
        {
          "data": {
            "text/plain": [
              "array([[5, 0, 7],\n",
              "       [2, 6, 3],\n",
              "       [9, 1, 6]])"
            ]
          },
          "execution_count": 5,
          "metadata": {},
          "output_type": "execute_result"
        }
      ],
      "source": [
        "p1"
      ]
    },
    {
      "cell_type": "markdown",
      "metadata": {},
      "source": [
        "### Problem 2\n",
        "\n",
        "Set `p2` to be the average value of `q2`."
      ]
    },
    {
      "cell_type": "code",
      "execution_count": 8,
      "metadata": {},
      "outputs": [
        {
          "data": {
            "text/plain": [
              "array([[ 1.2710684 ,  0.34651747,  0.68960684, -1.12567075, -0.06412985,\n",
              "         0.13373547,  0.84314528,  0.35206589],\n",
              "       [-1.18745615,  0.50656175,  0.66699453,  0.72676468, -0.34165581,\n",
              "        -1.00205835,  0.02101389,  0.93188219],\n",
              "       [ 0.23127874, -0.32878023, -0.97939304,  0.01044438, -0.81895036,\n",
              "        -0.44674951,  0.87667202, -1.51737553],\n",
              "       [ 2.07266937, -1.63841334, -0.20043649,  1.01993301, -1.21509526,\n",
              "        -0.15027553,  0.39621876,  0.28836095],\n",
              "       [-0.83933974,  1.64994802, -0.1213623 ,  0.25179499,  1.0813766 ,\n",
              "         0.48275638, -1.41171727, -0.72633164],\n",
              "       [-0.38257196,  0.12212784,  0.73860358, -1.61096579, -0.38644903,\n",
              "         0.30642748,  0.92550333, -2.20470762],\n",
              "       [ 0.32864359,  0.8622356 ,  1.99156784,  0.2118577 , -0.58876625,\n",
              "        -1.01185141,  0.83046577, -0.48243025],\n",
              "       [ 0.31960012,  0.60696688,  0.68950522, -0.80539561, -1.04918003,\n",
              "         0.2794904 , -0.09944267,  0.31027322]])"
            ]
          },
          "execution_count": 8,
          "metadata": {},
          "output_type": "execute_result"
        }
      ],
      "source": [
        "# DO NOT CHANGE\n",
        "\n",
        "q2 = np.array([[ 1.2710684 ,  0.34651747,  0.68960684, -1.12567075, -0.06412985,\n",
        "         0.13373547,  0.84314528,  0.35206589],\n",
        "       [-1.18745615,  0.50656175,  0.66699453,  0.72676468, -0.34165581,\n",
        "        -1.00205835,  0.02101389,  0.93188219],\n",
        "       [ 0.23127874, -0.32878023, -0.97939304,  0.01044438, -0.81895036,\n",
        "        -0.44674951,  0.87667202, -1.51737553],\n",
        "       [ 2.07266937, -1.63841334, -0.20043649,  1.01993301, -1.21509526,\n",
        "        -0.15027553,  0.39621876,  0.28836095],\n",
        "       [-0.83933974,  1.64994802, -0.1213623 ,  0.25179499,  1.0813766 ,\n",
        "         0.48275638, -1.41171727, -0.72633164],\n",
        "       [-0.38257196,  0.12212784,  0.73860358, -1.61096579, -0.38644903,\n",
        "         0.30642748,  0.92550333, -2.20470762],\n",
        "       [ 0.32864359,  0.8622356 ,  1.99156784,  0.2118577 , -0.58876625,\n",
        "        -1.01185141,  0.83046577, -0.48243025],\n",
        "       [ 0.31960012,  0.60696688,  0.68950522, -0.80539561, -1.04918003,\n",
        "         0.2794904 , -0.09944267,  0.31027322]])\n",
        "q2"
      ]
    },
    {
      "cell_type": "code",
      "execution_count": 11,
      "metadata": {},
      "outputs": [],
      "source": [
        "p2 = np.mean(q2)"
      ]
    },
    {
      "cell_type": "code",
      "execution_count": 10,
      "metadata": {},
      "outputs": [
        {
          "data": {
            "text/plain": [
              "np.float64(0.009955100156249994)"
            ]
          },
          "execution_count": 10,
          "metadata": {},
          "output_type": "execute_result"
        }
      ],
      "source": [
        "p2"
      ]
    },
    {
      "cell_type": "markdown",
      "metadata": {
        "id": "FigRYhR_agfC"
      },
      "source": [
        "### Problem 3\n",
        "\n",
        "Write a function `p3` that takes in a 2-dimensional array and returns an array with the even columns of the input array.\n"
      ]
    },
    {
      "cell_type": "code",
      "execution_count": 13,
      "metadata": {
        "id": "sP7nAQIyaiA0"
      },
      "outputs": [],
      "source": [
        "# YOUR CHANGES HERE\n",
        "\n",
        "def p3(x):\n",
        "    return x[:, ::2]"
      ]
    },
    {
      "cell_type": "code",
      "execution_count": 14,
      "metadata": {},
      "outputs": [
        {
          "data": {
            "text/plain": [
              "array([[0, 2, 4]])"
            ]
          },
          "execution_count": 14,
          "metadata": {},
          "output_type": "execute_result"
        }
      ],
      "source": [
        "# the output should have values [[0, 2, 4]]\n",
        "p3(np.array([[0, 1, 2, 3, 4]]))"
      ]
    },
    {
      "cell_type": "code",
      "execution_count": 15,
      "metadata": {},
      "outputs": [
        {
          "data": {
            "text/plain": [
              "array([[0, 2, 4],\n",
              "       [5, 7, 9]])"
            ]
          },
          "execution_count": 15,
          "metadata": {},
          "output_type": "execute_result"
        }
      ],
      "source": [
        "p3(np.array([[0, 1, 2, 3, 4], [5, 6, 7, 8, 9]]))"
      ]
    },
    {
      "cell_type": "markdown",
      "metadata": {
        "id": "hlMy5gDWajlh"
      },
      "source": [
        "### Problem 4\n",
        "\n",
        "Write a function `p4` taking in a 2-dimensional array, and returning a 1-dimensional array with every 5th element of a row-order traversal of the input, starting from the 3rd element."
      ]
    },
    {
      "cell_type": "code",
      "execution_count": 17,
      "metadata": {
        "id": "_PPKpb2Damy_"
      },
      "outputs": [],
      "source": [
        "# YOUR CHANGES HERE\n",
        "\n",
        "def p4(x):\n",
        "    return x.ravel()[2::5]"
      ]
    },
    {
      "cell_type": "code",
      "execution_count": 18,
      "metadata": {},
      "outputs": [
        {
          "data": {
            "text/plain": [
              "array([[ 0,  1,  2,  3],\n",
              "       [ 4,  5,  6,  7],\n",
              "       [ 8,  9, 10, 11],\n",
              "       [12, 13, 14, 15]])"
            ]
          },
          "execution_count": 18,
          "metadata": {},
          "output_type": "execute_result"
        }
      ],
      "source": [
        "x4 = np.array([[0, 1, 2, 3], [4, 5, 6, 7], [8, 9, 10, 11], [12, 13, 14, 15]])\n",
        "x4"
      ]
    },
    {
      "cell_type": "code",
      "execution_count": 19,
      "metadata": {},
      "outputs": [
        {
          "data": {
            "text/plain": [
              "array([ 2,  7, 12])"
            ]
          },
          "execution_count": 19,
          "metadata": {},
          "output_type": "execute_result"
        }
      ],
      "source": [
        "# this should return a 1-dimensional array with contents [2, 7, 12]\n",
        "\n",
        "p4(x4)"
      ]
    },
    {
      "cell_type": "markdown",
      "metadata": {
        "id": "9Wl_6b7sasyk"
      },
      "source": [
        "### Problem 5\n",
        "\n",
        "What NumPy function evaluates the Einstein summation convention?\n",
        "Set `p5` to be a reference to that function.\n",
        "You can look for this function by using NumPy site documentation and search, or other search engines."
      ]
    },
    {
      "cell_type": "code",
      "execution_count": 20,
      "metadata": {
        "id": "mTG8Edklazov"
      },
      "outputs": [],
      "source": [
        "# YOUR CHANGES HERE\n",
        "\n",
        "p5 = np.einsum"
      ]
    },
    {
      "cell_type": "code",
      "execution_count": 22,
      "metadata": {},
      "outputs": [
        {
          "data": {
            "text/plain": [
              "<function einsum at 0x792db07b09f0>"
            ]
          },
          "execution_count": 22,
          "metadata": {},
          "output_type": "execute_result"
        }
      ],
      "source": [
        "p5"
      ]
    },
    {
      "cell_type": "markdown",
      "metadata": {
        "id": "Uv3aC8Ara0vY"
      },
      "source": [
        "### Problem 6\n",
        "\n",
        "Write a function `p6` that takes in two inputs, a function and an array, and returns `True` if calling that function with the array as input returns a view of that array and `False` otherwise."
      ]
    },
    {
      "cell_type": "code",
      "execution_count": 23,
      "metadata": {
        "id": "DEBqqZt8a7Ar"
      },
      "outputs": [],
      "source": [
        "# YOUR CHANGES HERE\n",
        "\n",
        "def p6(f, x):\n",
        "    return np.shares_memory(f(x), x)"
      ]
    },
    {
      "cell_type": "code",
      "execution_count": 24,
      "metadata": {},
      "outputs": [
        {
          "data": {
            "text/plain": [
              "False"
            ]
          },
          "execution_count": 24,
          "metadata": {},
          "output_type": "execute_result"
        }
      ],
      "source": [
        "p6(np.sum, np.arange(20))"
      ]
    },
    {
      "cell_type": "code",
      "execution_count": 25,
      "metadata": {},
      "outputs": [
        {
          "data": {
            "text/plain": [
              "True"
            ]
          },
          "execution_count": 25,
          "metadata": {},
          "output_type": "execute_result"
        }
      ],
      "source": [
        "p6(np.fliplr, np.zeros((3, 4)))"
      ]
    },
    {
      "cell_type": "markdown",
      "metadata": {
        "id": "1ZXEEmuTa-2X"
      },
      "source": [
        "### Problem 7\n",
        "\n",
        "Write a function `p7` that takes in an array, and if it is a view, returns a number indicating the proportion of the original array that is seen through the view, and returns `None` if the array is not a view.\n",
        "If the input is an array of 10 elements, and it is a view of an array of 20 elements, your function should return 0.5.\n"
      ]
    },
    {
      "cell_type": "code",
      "execution_count": 27,
      "metadata": {
        "id": "NjgTz5ffbGcG"
      },
      "outputs": [],
      "source": [
        "# YOUR CHANGES HERE\n",
        "\n",
        "def p7(x):\n",
        "    base = x.base\n",
        "    if base is None or not isinstance(base, np.ndarray):\n",
        "        return None\n",
        "    return x.size / base.size"
      ]
    },
    {
      "cell_type": "code",
      "execution_count": 28,
      "metadata": {},
      "outputs": [
        {
          "data": {
            "text/plain": [
              "0.5"
            ]
          },
          "execution_count": 28,
          "metadata": {},
          "output_type": "execute_result"
        }
      ],
      "source": [
        "# a view\n",
        "\n",
        "t7a = np.arange(20)\n",
        "t7b = t7a[::2]\n",
        "p7(t7b)"
      ]
    },
    {
      "cell_type": "code",
      "execution_count": 29,
      "metadata": {},
      "outputs": [],
      "source": [
        "# not a view\n",
        "\n",
        "p7(np.arange(20))"
      ]
    },
    {
      "cell_type": "markdown",
      "metadata": {
        "id": "lB03Y4mjbI17"
      },
      "source": [
        "### Problem 8\n",
        "\n",
        "Write a function `p8` that returns the diagonal of an input 2-dimensional array. The diagonal of an array $x$ is the elements $x[0][0], x[1][1], x[2][2], \\ldots$.\n"
      ]
    },
    {
      "cell_type": "code",
      "execution_count": 30,
      "metadata": {
        "id": "6KZ5c-xEbRbb"
      },
      "outputs": [],
      "source": [
        "# YOUR CHANGES HERE\n",
        "\n",
        "def p8(x):\n",
        "    return np.diagonal(x)"
      ]
    },
    {
      "cell_type": "code",
      "execution_count": 31,
      "metadata": {},
      "outputs": [
        {
          "data": {
            "text/plain": [
              "array([1, 5, 9])"
            ]
          },
          "execution_count": 31,
          "metadata": {},
          "output_type": "execute_result"
        }
      ],
      "source": [
        "p8(np.array([[1, 2, 3], [4, 5, 6], [7, 8, 9]]))"
      ]
    },
    {
      "cell_type": "markdown",
      "metadata": {
        "id": "gYLD2VQzbTDO"
      },
      "source": [
        "### Problem 9\n",
        "\n",
        "Write a function `p9` that returns a view of the diagonal of an input 2-dimensional array but it must return a view of the original array. (If your previous answer already returned a view, you may reuse it.)"
      ]
    },
    {
      "cell_type": "code",
      "execution_count": 32,
      "metadata": {
        "id": "Srm6NfFabYUL"
      },
      "outputs": [],
      "source": [
        "# YOUR CHANGES HERE\n",
        "\n",
        "def p9(x):\n",
        "    return np.diagonal(x)"
      ]
    },
    {
      "cell_type": "code",
      "execution_count": 33,
      "metadata": {},
      "outputs": [],
      "source": [
        "x9 = np.array([[0, 1, 2], [3, 4, 5], [6, 7, 8]])"
      ]
    },
    {
      "cell_type": "code",
      "execution_count": 34,
      "metadata": {},
      "outputs": [
        {
          "data": {
            "text/plain": [
              "array([0, 4, 8])"
            ]
          },
          "execution_count": 34,
          "metadata": {},
          "output_type": "execute_result"
        }
      ],
      "source": [
        "p9(x9)"
      ]
    },
    {
      "cell_type": "code",
      "execution_count": 35,
      "metadata": {},
      "outputs": [],
      "source": [
        "# uncomment to test after you finish p9\n",
        "\n",
        "# p9(x9).base is x9"
      ]
    },
    {
      "cell_type": "markdown",
      "metadata": {},
      "source": [
        "### Problem 10\n",
        "\n",
        "The [$X + Y$ sorting problem](https://en.wikipedia.org/wiki/X_%2B_Y_sorting) considers the problem of sorting pairs of numbers from two lists of numbers, $X$ and $Y$, by their sums.\n",
        "Write a function `p10` that takes in two 1-dimensional arrays, $x$ and $y$, and returns a two dimensional array $z$ such that $z[i,j] = x[i] + y[j]$."
      ]
    },
    {
      "cell_type": "markdown",
      "metadata": {},
      "source": [
        "Hint: use broadcasting."
      ]
    },
    {
      "cell_type": "code",
      "execution_count": 36,
      "metadata": {},
      "outputs": [],
      "source": [
        "# YOUR CHANGES HERE\n",
        "\n",
        "def p10(x, y):\n",
        "    return x[:, np.newaxis] + y"
      ]
    },
    {
      "cell_type": "code",
      "execution_count": 37,
      "metadata": {},
      "outputs": [
        {
          "data": {
            "text/plain": [
              "array([[11, 12, 13, 14, 15],\n",
              "       [21, 22, 23, 24, 25],\n",
              "       [31, 32, 33, 34, 35]])"
            ]
          },
          "execution_count": 37,
          "metadata": {},
          "output_type": "execute_result"
        }
      ],
      "source": [
        "p10(np.array([10, 20, 30]), np.array([1, 2, 3, 4, 5]))"
      ]
    },
    {
      "cell_type": "markdown",
      "metadata": {
        "id": "wTqFGHnxaFn2"
      },
      "source": [
        "### Problem 11\n",
        "\n",
        "Write a function `p11` taking an $n \\times k$ array and returns an $n \\times 3$ array where the first column is the minimum value of the input rows, the second column is the median of the input rows, and the third column is the maximum values of the input rows.\n"
      ]
    },
    {
      "cell_type": "markdown",
      "metadata": {
        "id": "PCLV0oz-aJ4d"
      },
      "source": [
        "Hint: there was a similar problem in week 6, but you will need `numpy.reshape` and `numpy.hstack` to adapt those results.\n"
      ]
    },
    {
      "cell_type": "code",
      "execution_count": 43,
      "metadata": {
        "id": "5yWtvBoQaLHF"
      },
      "outputs": [],
      "source": [
        "def p11(x):\n",
        "    row_min = np.min(x, axis=1).reshape(-1, 1)\n",
        "    row_median = np.median(x, axis=1).reshape(-1, 1)\n",
        "    row_max = np.max(x, axis=1).reshape(-1, 1)\n",
        "    return np.hstack([row_min, row_median, row_max])"
      ]
    },
    {
      "cell_type": "code",
      "execution_count": 44,
      "metadata": {},
      "outputs": [
        {
          "data": {
            "text/plain": [
              "array([[ 0.,  2.,  4.],\n",
              "       [ 5.,  7.,  9.],\n",
              "       [10., 12., 14.]])"
            ]
          },
          "execution_count": 44,
          "metadata": {},
          "output_type": "execute_result"
        }
      ],
      "source": [
        "p11(np.array([[0, 1, 2, 3, 4],\n",
        "              [5, 6, 7, 8, 9],\n",
        "              [10, 11, 12, 13, 14]]))"
      ]
    },
    {
      "cell_type": "markdown",
      "metadata": {},
      "source": [
        "### Problem 12\n",
        "\n",
        "What does the following code do?\n",
        "\n",
        "```\n",
        "def f12(vs):\n",
        "    return [v for (i, v) in enumerate(vs) if i >= 5]\n",
        "\n",
        "def g12(n):\n",
        "    for i in range(n):\n",
        "        yield i ** 2\n",
        "\n",
        "print(f12(g12(10)))\n",
        "```\n",
        "\n",
        "Set `p12` to the printed output."
      ]
    },
    {
      "cell_type": "code",
      "execution_count": 45,
      "metadata": {},
      "outputs": [],
      "source": [
        "# YOUR CHANGES HERE\n",
        "\n",
        "p12 = [25, 36, 49, 64, 81]"
      ]
    },
    {
      "cell_type": "code",
      "execution_count": 46,
      "metadata": {},
      "outputs": [
        {
          "data": {
            "text/plain": [
              "[25, 36, 49, 64, 81]"
            ]
          },
          "execution_count": 46,
          "metadata": {},
          "output_type": "execute_result"
        }
      ],
      "source": [
        "p12"
      ]
    },
    {
      "cell_type": "markdown",
      "metadata": {},
      "source": [
        "### Problem 13\n",
        "\n",
        "The following code is supposed to iterate the Collatz function until it reaches the value 1, but does not have the correct control flow.\n",
        "Modify the loop below so that it continues until the last entry of `p13` is one."
      ]
    },
    {
      "cell_type": "code",
      "execution_count": 47,
      "metadata": {},
      "outputs": [],
      "source": [
        "# DO NOT CHANGE\n",
        "\n",
        "def f13(x):\n",
        "    if x % 2 == 0:\n",
        "        # even case\n",
        "        return x // 2\n",
        "    else:\n",
        "        return 3 * x + 1"
      ]
    },
    {
      "cell_type": "code",
      "execution_count": 48,
      "metadata": {},
      "outputs": [],
      "source": [
        "# DO NOT CHANGE\n",
        "\n",
        "p13 = [27]"
      ]
    },
    {
      "cell_type": "code",
      "execution_count": 50,
      "metadata": {},
      "outputs": [],
      "source": [
        "# YOUR CHANGES HERE\n",
        "\n",
        "while p13[-1] != 1:\n",
        "    # apply f13() to the last entry of p13.\n",
        "    p13.append(f13(p13[-1]))"
      ]
    },
    {
      "cell_type": "code",
      "execution_count": 51,
      "metadata": {},
      "outputs": [
        {
          "data": {
            "text/plain": [
              "[27,\n",
              " 82,\n",
              " 41,\n",
              " 124,\n",
              " 62,\n",
              " 31,\n",
              " 94,\n",
              " 47,\n",
              " 142,\n",
              " 71,\n",
              " 214,\n",
              " 107,\n",
              " 322,\n",
              " 161,\n",
              " 484,\n",
              " 242,\n",
              " 121,\n",
              " 364,\n",
              " 182,\n",
              " 91,\n",
              " 274,\n",
              " 137,\n",
              " 412,\n",
              " 206,\n",
              " 103,\n",
              " 310,\n",
              " 155,\n",
              " 466,\n",
              " 233,\n",
              " 700,\n",
              " 350,\n",
              " 175,\n",
              " 526,\n",
              " 263,\n",
              " 790,\n",
              " 395,\n",
              " 1186,\n",
              " 593,\n",
              " 1780,\n",
              " 890,\n",
              " 445,\n",
              " 1336,\n",
              " 668,\n",
              " 334,\n",
              " 167,\n",
              " 502,\n",
              " 251,\n",
              " 754,\n",
              " 377,\n",
              " 1132,\n",
              " 566,\n",
              " 283,\n",
              " 850,\n",
              " 425,\n",
              " 1276,\n",
              " 638,\n",
              " 319,\n",
              " 958,\n",
              " 479,\n",
              " 1438,\n",
              " 719,\n",
              " 2158,\n",
              " 1079,\n",
              " 3238,\n",
              " 1619,\n",
              " 4858,\n",
              " 2429,\n",
              " 7288,\n",
              " 3644,\n",
              " 1822,\n",
              " 911,\n",
              " 2734,\n",
              " 1367,\n",
              " 4102,\n",
              " 2051,\n",
              " 6154,\n",
              " 3077,\n",
              " 9232,\n",
              " 4616,\n",
              " 2308,\n",
              " 1154,\n",
              " 577,\n",
              " 1732,\n",
              " 866,\n",
              " 433,\n",
              " 1300,\n",
              " 650,\n",
              " 325,\n",
              " 976,\n",
              " 488,\n",
              " 244,\n",
              " 122,\n",
              " 61,\n",
              " 184,\n",
              " 92,\n",
              " 46,\n",
              " 23,\n",
              " 70,\n",
              " 35,\n",
              " 106,\n",
              " 53,\n",
              " 160,\n",
              " 80,\n",
              " 40,\n",
              " 20,\n",
              " 10,\n",
              " 5,\n",
              " 16,\n",
              " 8,\n",
              " 4,\n",
              " 2,\n",
              " 1]"
            ]
          },
          "execution_count": 51,
          "metadata": {},
          "output_type": "execute_result"
        }
      ],
      "source": [
        "p13"
      ]
    },
    {
      "cell_type": "markdown",
      "metadata": {},
      "source": [
        "### Problem 14\n",
        "\n",
        "Set `p14` to be the shape tuple of the variable `q14` at the end of the following code.\n",
        "\n",
        "```\n",
        "q14 = np.arange(24)\n",
        "q14 = q14.reshape(3, -1)\n",
        "q14 = q14[:,::3]\n",
        "```"
      ]
    },
    {
      "cell_type": "code",
      "execution_count": 52,
      "metadata": {},
      "outputs": [],
      "source": [
        "# YOUR CHANGES HERE\n",
        "\n",
        "p14 = (3, 3)"
      ]
    },
    {
      "cell_type": "code",
      "execution_count": 53,
      "metadata": {},
      "outputs": [
        {
          "data": {
            "text/plain": [
              "(3, 3)"
            ]
          },
          "execution_count": 53,
          "metadata": {},
          "output_type": "execute_result"
        }
      ],
      "source": [
        "p14"
      ]
    },
    {
      "cell_type": "markdown",
      "metadata": {},
      "source": [
        "### Problem 15\n",
        "\n",
        "The array `q15` below was filled with a sample of random numbers.\n",
        "The variable `p15` is a reference to the same array.\n",
        "Change the contents of `p15` so that the first row is all zeros.\n",
        "After your change to `p15`, the variables `p15` and `q15` should still be the same array."
      ]
    },
    {
      "cell_type": "markdown",
      "metadata": {},
      "source": [
        "Hint: use row indexing to easily overwrite just one row of `p15`."
      ]
    },
    {
      "cell_type": "code",
      "execution_count": 54,
      "metadata": {},
      "outputs": [
        {
          "data": {
            "text/plain": [
              "array([[ 1.76435665, -0.66892705, -1.08485379, -0.51982851,  1.2362559 ],\n",
              "       [ 0.15524724, -0.78679294, -0.9343088 ,  2.78526049,  0.19342893],\n",
              "       [ 0.76716362,  2.91044894, -0.80492143, -1.63290739, -0.50503081],\n",
              "       [ 0.09743684,  0.11846846,  1.0413396 ,  0.85669315,  0.30437891],\n",
              "       [ 0.56113285, -1.02444355, -1.57142929,  0.251055  , -1.09196046]])"
            ]
          },
          "execution_count": 54,
          "metadata": {},
          "output_type": "execute_result"
        }
      ],
      "source": [
        "# DO NOT CHANGE\n",
        "\n",
        "q15 = np.array([[ 1.76435665, -0.66892705, -1.08485379, -0.51982851,  1.2362559 ],\n",
        "       [ 0.15524724, -0.78679294, -0.9343088 ,  2.78526049,  0.19342893],\n",
        "       [ 0.76716362,  2.91044894, -0.80492143, -1.63290739, -0.50503081],\n",
        "       [ 0.09743684,  0.11846846,  1.0413396 ,  0.85669315,  0.30437891],\n",
        "       [ 0.56113285, -1.02444355, -1.57142929,  0.251055  , -1.09196046]])\n",
        "p15 = q15\n",
        "p15"
      ]
    },
    {
      "cell_type": "code",
      "execution_count": 55,
      "metadata": {},
      "outputs": [],
      "source": [
        "# YOUR CHANGES HERE\n",
        "\n",
        "p15[0, :] = 0"
      ]
    },
    {
      "cell_type": "code",
      "execution_count": 168,
      "metadata": {},
      "outputs": [
        {
          "data": {
            "text/plain": [
              "array([[ 1.76435665, -0.66892705, -1.08485379, -0.51982851,  1.2362559 ],\n",
              "       [ 0.15524724, -0.78679294, -0.9343088 ,  2.78526049,  0.19342893],\n",
              "       [ 0.76716362,  2.91044894, -0.80492143, -1.63290739, -0.50503081],\n",
              "       [ 0.09743684,  0.11846846,  1.0413396 ,  0.85669315,  0.30437891],\n",
              "       [ 0.56113285, -1.02444355, -1.57142929,  0.251055  , -1.09196046]])"
            ]
          },
          "execution_count": 168,
          "metadata": {},
          "output_type": "execute_result"
        }
      ],
      "source": [
        "p15"
      ]
    },
    {
      "cell_type": "code",
      "execution_count": 56,
      "metadata": {},
      "outputs": [
        {
          "data": {
            "text/plain": [
              "True"
            ]
          },
          "execution_count": 56,
          "metadata": {},
          "output_type": "execute_result"
        }
      ],
      "source": [
        "# confirm that p15 is still the same array\n",
        "id(p15) == id(q15)"
      ]
    },
    {
      "cell_type": "markdown",
      "metadata": {},
      "source": [
        "### Problem 16\n",
        "\n",
        "Write a function `p16` that takes in numbers of rows and columns and a value, and uses `np.broadcast_to` to make a 2-dimensional array of the specified size that appears to have the specified dimensions and each has the given value.\n",
        "This will be similar to the output of `np.full`, except the resulting array will be read-only because of the broadcast usage."
      ]
    },
    {
      "cell_type": "code",
      "execution_count": 57,
      "metadata": {},
      "outputs": [],
      "source": [
        "# YOUR CHANGES HERE\n",
        "\n",
        "def p16(rows, columns, value):\n",
        "    scalar = np.array(value)\n",
        "    arr = np.broadcast_to(scalar, (rows, columns))\n",
        "    arr.flags.writeable = False\n",
        "    return arr"
      ]
    },
    {
      "cell_type": "code",
      "execution_count": 58,
      "metadata": {},
      "outputs": [
        {
          "data": {
            "text/plain": [
              "array([[5, 5, 5, 5],\n",
              "       [5, 5, 5, 5],\n",
              "       [5, 5, 5, 5]])"
            ]
          },
          "execution_count": 58,
          "metadata": {},
          "output_type": "execute_result"
        }
      ],
      "source": [
        "t16 = p16(3, 4, 5)\n",
        "t16"
      ]
    },
    {
      "cell_type": "markdown",
      "metadata": {},
      "source": [
        "### Problem 17\n",
        "\n",
        "Set `p17` to the contents of `q17` after running the following code.\n",
        "\n",
        "```\n",
        "q17 = np.arange(16)\n",
        "q17 = q17.reshape(-1, 4)\n",
        "q17 = np.flipud(q17)\n",
        "q17 = np.fliplr(q17)\n",
        "```"
      ]
    },
    {
      "cell_type": "code",
      "execution_count": 61,
      "metadata": {},
      "outputs": [],
      "source": [
        "# YOUR CHANGES HERE\n",
        "\n",
        "p17 = np.array([\n",
        "    [15, 14, 13, 12],\n",
        "    [11, 10,  9,  8],\n",
        "    [ 7,  6,  5,  4],\n",
        "    [ 3,  2,  1,  0]])\n",
        "      "
      ]
    },
    {
      "cell_type": "code",
      "execution_count": 60,
      "metadata": {},
      "outputs": [
        {
          "data": {
            "text/plain": [
              "array([[15, 14, 13, 12],\n",
              "       [11, 10,  9,  8],\n",
              "       [ 7,  6,  5,  4],\n",
              "       [ 3,  2,  1,  0]])"
            ]
          },
          "execution_count": 60,
          "metadata": {},
          "output_type": "execute_result"
        }
      ],
      "source": [
        "p17"
      ]
    },
    {
      "cell_type": "markdown",
      "metadata": {
        "id": "QxXXYh0LbdI_"
      },
      "source": [
        "### Problem 18\n",
        "\n",
        "Write a function `p18` that takes in a size $n$ and returns a 1-dimensional array of length $n$ where the first element is $1$ and the $i+1$th element is the $i$th element plus $1/(i+1)$.\n",
        "Make sure to test your function on at least $n=1000000$."
      ]
    },
    {
      "cell_type": "code",
      "execution_count": 62,
      "metadata": {
        "id": "rWqrcW7vbj0H"
      },
      "outputs": [],
      "source": [
        "# YOUR CHANGES HERE\n",
        "\n",
        "def p18(n):\n",
        "    arr = np.zeros(n, dtype=np.float64)\n",
        "    arr[0] = 1.0\n",
        "    for i in range(1, n):\n",
        "        arr[i] = arr[i-1] + 1.0 / (i + 1)\n",
        "    return arr"
      ]
    },
    {
      "cell_type": "code",
      "execution_count": 63,
      "metadata": {},
      "outputs": [
        {
          "data": {
            "text/plain": [
              "array([1. , 1.5])"
            ]
          },
          "execution_count": 63,
          "metadata": {},
          "output_type": "execute_result"
        }
      ],
      "source": [
        "# should return array with contents [1, 1.5]\n",
        "p18(2)"
      ]
    },
    {
      "cell_type": "code",
      "execution_count": 64,
      "metadata": {},
      "outputs": [
        {
          "data": {
            "text/plain": [
              "array([1.        , 1.5       , 1.83333333, 2.08333333, 2.28333333])"
            ]
          },
          "execution_count": 64,
          "metadata": {},
          "output_type": "execute_result"
        }
      ],
      "source": [
        "p18(5)"
      ]
    },
    {
      "cell_type": "code",
      "execution_count": 65,
      "metadata": {},
      "outputs": [],
      "source": [
        "# this will be very slow if your function repeatedly builds fresh arrays.\n",
        "# p18(1000000)"
      ]
    },
    {
      "cell_type": "markdown",
      "metadata": {},
      "source": [
        "### Problem 19\n",
        "\n",
        "Write a function `p19` that takes in 3 values $a$, $b$, and $c$ and an array $X$ and returns $a X^2 + bX + c$.\n",
        "`p19` should return an array in the same shape as the input $X$."
      ]
    },
    {
      "cell_type": "code",
      "execution_count": 66,
      "metadata": {},
      "outputs": [],
      "source": [
        "# YOUR CHANGES HERE\n",
        "\n",
        "def p19(a, b, c, X):\n",
        "    return a * X**2 + b * X + c\n"
      ]
    },
    {
      "cell_type": "code",
      "execution_count": 67,
      "metadata": {},
      "outputs": [
        {
          "data": {
            "text/plain": [
              "array([ 0,  1,  4,  9, 16, 25, 36, 49, 64, 81])"
            ]
          },
          "execution_count": 67,
          "metadata": {},
          "output_type": "execute_result"
        }
      ],
      "source": [
        "p19(1, 0, 0, np.arange(0, 10))"
      ]
    },
    {
      "cell_type": "code",
      "execution_count": 68,
      "metadata": {},
      "outputs": [
        {
          "data": {
            "text/plain": [
              "array([1, 1, 1, 1, 1, 1, 1, 1, 1, 1])"
            ]
          },
          "execution_count": 68,
          "metadata": {},
          "output_type": "execute_result"
        }
      ],
      "source": [
        "p19(0, 0, 1, np.arange(0, 10))"
      ]
    },
    {
      "cell_type": "code",
      "execution_count": 69,
      "metadata": {},
      "outputs": [
        {
          "data": {
            "text/plain": [
              "array([  3,   6,  11,  18,  27,  38,  51,  66,  83, 102])"
            ]
          },
          "execution_count": 69,
          "metadata": {},
          "output_type": "execute_result"
        }
      ],
      "source": [
        "p19(1, 2, 3, np.arange(0, 10))"
      ]
    },
    {
      "cell_type": "markdown",
      "metadata": {
        "id": "5WO97foQaM9Z"
      },
      "source": [
        "### Problem 20\n",
        "\n",
        "Write a function `p20` taking in input array $X$ and return $X X^T$ where $X^T$ denotes matrix transposition, and $X X^T$ denotes combining $X$ and $X^T$ with matrix multiplication.\n"
      ]
    },
    {
      "cell_type": "code",
      "execution_count": 70,
      "metadata": {
        "id": "cENE8brYaTSa"
      },
      "outputs": [],
      "source": [
        "# YOUR CHANGES HERE\n",
        "\n",
        "def p20(X):\n",
        "    return X @ X.T"
      ]
    },
    {
      "cell_type": "code",
      "execution_count": 71,
      "metadata": {},
      "outputs": [
        {
          "data": {
            "text/plain": [
              "array([[ 1,  2,  3,  4,  5],\n",
              "       [ 2,  4,  6,  8, 10],\n",
              "       [ 3,  6,  9, 12, 15],\n",
              "       [ 4,  8, 12, 16, 20],\n",
              "       [ 5, 10, 15, 20, 25]])"
            ]
          },
          "execution_count": 71,
          "metadata": {},
          "output_type": "execute_result"
        }
      ],
      "source": [
        "# should return\n",
        "# [[1, 2, 3, 4, 5],\n",
        "#  [2, 4, 6, 8, 10],\n",
        "#  [3, 6, 9, 12, 15],\n",
        "#  [4, 8, 12, 16, 20],\n",
        "#  [5, 10, 15, 20, 25]]\n",
        "\n",
        "p20(np.array([[1], [2], [3], [4], [5]]))\n"
      ]
    },
    {
      "cell_type": "code",
      "execution_count": 72,
      "metadata": {},
      "outputs": [
        {
          "data": {
            "text/plain": [
              "array([[ 2,  3,  4,  5,  6],\n",
              "       [ 3,  5,  7,  9, 11],\n",
              "       [ 4,  7, 10, 13, 16],\n",
              "       [ 5,  9, 13, 17, 21],\n",
              "       [ 6, 11, 16, 21, 26]])"
            ]
          },
          "execution_count": 72,
          "metadata": {},
          "output_type": "execute_result"
        }
      ],
      "source": [
        "# should return\n",
        "# [[ 2,  3,  4,  5,  6],\n",
        "#  [ 3,  5,  7,  9, 11],\n",
        "#  [ 4,  7, 10, 13, 16],\n",
        "#  [ 5,  9, 13, 17, 21],\n",
        "#  [ 6, 11, 16, 21, 26]]\n",
        "\n",
        "p20(np.array([[1, 1], [2, 1], [3, 1], [4, 1], [5, 1]]))"
      ]
    }
  ],
  "metadata": {
    "colab": {
      "toc_visible": false
    },
    "kernelspec": {
      "display_name": "Python 3",
      "name": "python3"
    },
    "language_info": {
      "codemirror_mode": {
        "name": "ipython",
        "version": 3
      },
      "file_extension": ".py",
      "mimetype": "text/x-python",
      "name": "python",
      "nbconvert_exporter": "python",
      "pygments_lexer": "ipython3",
      "version": "3.12.1"
    }
  },
  "nbformat": 4,
  "nbformat_minor": 0
}
